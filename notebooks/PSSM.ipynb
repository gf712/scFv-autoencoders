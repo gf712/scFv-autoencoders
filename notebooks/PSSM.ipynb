{
 "cells": [
  {
   "cell_type": "code",
   "execution_count": 1,
   "metadata": {},
   "outputs": [],
   "source": [
    "from xml.etree import ElementTree as ET"
   ]
  },
  {
   "cell_type": "code",
   "execution_count": 2,
   "metadata": {},
   "outputs": [],
   "source": [
    "et = ET.parse('../data/abysis_data_201801/abysis_data/kabat/kabat-20180117-24296/kabat-20180117-24296.xml')"
   ]
  },
  {
   "cell_type": "code",
   "execution_count": 106,
   "metadata": {},
   "outputs": [
    {
     "name": "stdout",
     "output_type": "stream",
     "text": [
      "9 entries failed\n"
     ]
    }
   ],
   "source": [
    "failed=0\n",
    "with open('../data/kabat_all.fasta', 'w') as f:\n",
    "    for antibody in et.findall('antibody'):\n",
    "        chains = antibody.getchildren()\n",
    "        if len(chains) == 2:\n",
    "            try:\n",
    "                chain_name_1 = chains[0].find('name').text\n",
    "                chain_type_1 = chains[0].find('chain_type').text\n",
    "                chain_sequence_1 = chains[0].find('sequence').find('aa_sequence').text\n",
    "                \n",
    "                chain_name_2 = chains[1].find('name').text\n",
    "                chain_type_2 = chains[1].find('chain_type').text\n",
    "                chain_sequence_2 = chains[1].find('sequence').find('aa_sequence').text\n",
    "                \n",
    "                f.write('>>{}-{}\\n{}\\n'.format(chain_name_1, chain_type_1, chain_sequence_1))\n",
    "                f.write('>>{}-{}\\n{}\\n'.format(chain_name_2, chain_type_2, chain_sequence_2))\n",
    "                \n",
    "            except:\n",
    "                failed+=1 \n",
    "print('{} entries failed'.format(failed))"
   ]
  },
  {
   "cell_type": "code",
   "execution_count": 107,
   "metadata": {},
   "outputs": [
    {
     "name": "stdout",
     "output_type": "stream",
     "text": [
      ">>VL A47-light_lambda\r\n",
      "TQPPSVSGFPGQSVTISCTGTSSDIGTYNRVSWYQQPPGTAPKLIIYEAMNRASGVPDRFSGSKFGNTASLTISGLQPEDEADYYCSSYTTRNTV\r\n",
      ">>VH A47-heavy\r\n",
      "VESGGGLVQPGGSLRLSCAAAGFPSSSFRMSWVRQAPGKGLEWVANINQDGSNKYYVEAVKGRFTISRDNAKNSLYLQMNSLRAEDTAVYFCAR\r\n",
      ">>VL ii.'CL-light_lambda\r\n",
      "QAVLTQPSSVSVNLGQRVSITCSGSSSNVGLGNYVGWFQQIPGSAPRTLIYDATHRSTGVPSRFSGSRSGNTATLTITSLQAEDEADYFCGSPDSDSVVVFGSGTALTIPG\r\n",
      ">>VH ii.'CL-heavy\r\n",
      "QVQLRESGPSLGKPSQTLSLTCTVSGVSLSRYDVTWVRQAPGKTLEWLGEMASDGKTYYPPALKSRLSITKDNSKSQVTLSLSSVTPEDTATYYCGKIWLDTWGQGLLVTVSS\r\n",
      ">>VL iii.'CL-light_lambda\r\n",
      "QAVLTQPSSVSVTLGQRVSITCSGSSSNVGLGDYVGWFQQVPGSAPRTLIYDATHRSPGVPSRFSASRSGNTATLTITSLQAEDEADYFCGSPDSDTVVVFGSGTTLTIPG\r\n"
     ]
    }
   ],
   "source": [
    "!head ../data/kabat_all.fasta"
   ]
  },
  {
   "cell_type": "code",
   "execution_count": 149,
   "metadata": {},
   "outputs": [],
   "source": [
    "from collections import defaultdict"
   ]
  },
  {
   "cell_type": "code",
   "execution_count": 151,
   "metadata": {},
   "outputs": [
    {
     "name": "stdout",
     "output_type": "stream",
     "text": [
      "2232 entries failed\n"
     ]
    }
   ],
   "source": [
    "failed=0\n",
    "names = defaultdict(int)\n",
    "with open('../data/kabat_all_unpaired.fasta', 'w') as f:\n",
    "    for antibody in et.findall('antibody'):\n",
    "        chains = antibody.getchildren()\n",
    "        for chain in chains:\n",
    "            try:\n",
    "                accession = chain.find('accession').text\n",
    "                chain_name_1 = chain.find('name').text\n",
    "                chain_type_1 = chain.find('chain_type').text\n",
    "                chain_sequence_1 = chain.find('sequence').find('aa_sequence').text\n",
    "                \n",
    "                version = names[accession]\n",
    "                f.write('>{}.{} RecName:{}-{}\\n{}\\n'.format(accession, version, chain_name_1, chain_type_1, chain_sequence_1))\n",
    "                names[accession]+=1\n",
    "                    \n",
    "            except:\n",
    "#                 print(e)\n",
    "                failed+=1 \n",
    "print('{} entries failed'.format(failed))"
   ]
  },
  {
   "cell_type": "code",
   "execution_count": 154,
   "metadata": {},
   "outputs": [
    {
     "data": {
      "text/plain": [
       "19059"
      ]
     },
     "execution_count": 154,
     "metadata": {},
     "output_type": "execute_result"
    }
   ],
   "source": [
    "len(et.findall('antibody'))"
   ]
  },
  {
   "cell_type": "code",
   "execution_count": 152,
   "metadata": {},
   "outputs": [
    {
     "name": "stdout",
     "output_type": "stream",
     "text": [
      "38798 ../data/kabat_all_unpaired.fasta\r\n"
     ]
    }
   ],
   "source": [
    "!wc -l ../data/kabat_all_unpaired.fasta"
   ]
  },
  {
   "cell_type": "code",
   "execution_count": 153,
   "metadata": {},
   "outputs": [
    {
     "data": {
      "text/plain": [
       "[<Element 'chain' at 0x7ff7e7f446d8>, <Element 'chain' at 0x7ff7e7f61cc8>]"
      ]
     },
     "execution_count": 153,
     "metadata": {},
     "output_type": "execute_result"
    }
   ],
   "source": [
    "chains"
   ]
  },
  {
   "cell_type": "code",
   "execution_count": 111,
   "metadata": {},
   "outputs": [
    {
     "data": {
      "text/plain": [
       "\"MICA 7'CL\""
      ]
     },
     "execution_count": 111,
     "metadata": {},
     "output_type": "execute_result"
    }
   ],
   "source": [
    "chain_name_1"
   ]
  },
  {
   "cell_type": "code",
   "execution_count": 112,
   "metadata": {},
   "outputs": [
    {
     "data": {
      "text/plain": [
       "'light_kappa'"
      ]
     },
     "execution_count": 112,
     "metadata": {},
     "output_type": "execute_result"
    }
   ],
   "source": [
    "chain_type_1"
   ]
  },
  {
   "cell_type": "code",
   "execution_count": 113,
   "metadata": {},
   "outputs": [
    {
     "data": {
      "text/plain": [
       "'SPSTLSASVGDRVTITCRASQNINSWLAWYQQKPGKAPNLLISKASTLESGVPSRFSGSGSGTEFTLTISSLQPDDFASYYCQQYKNYSWTFGQGTKVEMK'"
      ]
     },
     "execution_count": 113,
     "metadata": {},
     "output_type": "execute_result"
    }
   ],
   "source": [
    "chain_sequence_1"
   ]
  },
  {
   "cell_type": "code",
   "execution_count": 126,
   "metadata": {},
   "outputs": [],
   "source": [
    "import re"
   ]
  },
  {
   "cell_type": "code",
   "execution_count": 143,
   "metadata": {},
   "outputs": [
    {
     "data": {
      "text/plain": [
       "[\">>VHGL 1.2'CL-heavy\",\n",
       " \">>VHGL 1.8'CL-heavy\",\n",
       " \">>VHGL 1.9'CL-heavy\",\n",
       " \">>VHGL 6.3'CL-heavy\",\n",
       " \">>VHGL 3.1'CL-heavy\",\n",
       " \">>VHGL 3.8'CL-heavy\"]"
      ]
     },
     "execution_count": 143,
     "metadata": {},
     "output_type": "execute_result"
    }
   ],
   "source": [
    "[name for name in seqs if len(re.findall('VHGL', name)) > 0]"
   ]
  },
  {
   "cell_type": "code",
   "execution_count": 148,
   "metadata": {},
   "outputs": [
    {
     "data": {
      "text/plain": [
       "'023903'"
      ]
     },
     "execution_count": 148,
     "metadata": {},
     "output_type": "execute_result"
    }
   ],
   "source": [
    "chain.find('accession').text"
   ]
  },
  {
   "cell_type": "code",
   "execution_count": null,
   "metadata": {},
   "outputs": [],
   "source": [
    "et = ET.parse('../data/abysis_data_201801/abysis_data/emblig/emblig-20180125-26209/emblig-20180125-26209.xml')"
   ]
  },
  {
   "cell_type": "code",
   "execution_count": null,
   "metadata": {},
   "outputs": [],
   "source": [
    "len(et.findall('antibody'))"
   ]
  },
  {
   "cell_type": "code",
   "execution_count": null,
   "metadata": {},
   "outputs": [],
   "source": []
  }
 ],
 "metadata": {
  "kernelspec": {
   "display_name": "Python 3",
   "language": "python",
   "name": "python3"
  },
  "language_info": {
   "codemirror_mode": {
    "name": "ipython",
    "version": 3
   },
   "file_extension": ".py",
   "mimetype": "text/x-python",
   "name": "python",
   "nbconvert_exporter": "python",
   "pygments_lexer": "ipython3",
   "version": "3.6.6"
  }
 },
 "nbformat": 4,
 "nbformat_minor": 2
}
